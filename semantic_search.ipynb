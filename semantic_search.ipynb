{
 "cells": [
  {
   "cell_type": "code",
   "execution_count": null,
   "id": "121ea843",
   "metadata": {},
   "outputs": [],
   "source": [
    "from sentence_transformers import SentenceTransformer\n",
    "from sklearn.metrics.pairwise import cosine_similarity\n",
    "import numpy as np\n",
    "\n",
    "\n",
    "model=SentenceTransformer('all-MiniLM-L6-v2')\n",
    "\n",
    "sentences=[\n",
    "    \"Dog1\",\n",
    "    \"The hospital is full today\",\n",
    "    \"Football is a popular sport\",\n",
    "    \"Cricket is played by many sportsmen\"]\n",
    "\n",
    "embeddings=model.encode(sentences)\n",
    "\n",
    "print(\"First sentence encoded:\\n\",embeddings[0])\n",
    "print(\"\\nVector length of first sentence: \",len(embeddings[0]))\n",
    "\n",
    "similarity=cosine_similarity([embeddings[0]],[embeddings[2]])\n",
    "print(\"Similarity between the 2 sentences: \",similarity[0][0])\n"
   ]
  }
 ],
 "metadata": {
  "kernelspec": {
   "display_name": "semantic_env",
   "language": "python",
   "name": "python3"
  },
  "language_info": {
   "codemirror_mode": {
    "name": "ipython",
    "version": 3
   },
   "file_extension": ".py",
   "mimetype": "text/x-python",
   "name": "python",
   "nbconvert_exporter": "python",
   "pygments_lexer": "ipython3",
   "version": "3.13.7"
  }
 },
 "nbformat": 4,
 "nbformat_minor": 5
}
