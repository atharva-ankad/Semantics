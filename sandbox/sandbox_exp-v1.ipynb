{
 "cells": [
  {
   "cell_type": "code",
   "execution_count": null,
   "id": "1176934c",
   "metadata": {},
   "outputs": [],
   "source": [
    "from sentence_transformers import SentenceTransformer\n",
    "from sklearn.metrics.pairwise import cosine_similarity\n",
    "import numpy as np\n",
    "import matplotlib.pyplot as plt\n",
    "from sklearn.decomposition import PCA\n",
    "\n",
    "model=SentenceTransformer('all-MiniLM-L6-v2')\n"
   ]
  },
  {
   "cell_type": "code",
   "execution_count": null,
   "id": "408b21c2",
   "metadata": {},
   "outputs": [],
   "source": [
    "sentences=[\n",
    "    \"Dog\", \"happy\",\"sad\",\"cry\",\"jump\",\n",
    "    \"Puppy\",\n",
    "    \"Cat\",\n",
    "    \"Doctor\",\n",
    "    \"Nurse\",\n",
    "    \"shirts\", \"pants\",\n",
    "    \"army\", \"navy\",\n",
    "    \"Hospital\",\n",
    "    \"Football is a popular sport\",\n",
    "    \"Basketball is played by many sportsmen\"]\n",
    "\n",
    "embeddings=model.encode(sentences)\n"
   ]
  },
  {
   "cell_type": "code",
   "execution_count": null,
   "id": "bf6eb7d6",
   "metadata": {},
   "outputs": [],
   "source": [
    "\n",
    "print(\"Vector length of first sentence: \",len(embeddings[0]))\n",
    "print(\"\\nFirst sentence encoded:\\n\",embeddings[0])\n"
   ]
  },
  {
   "cell_type": "code",
   "execution_count": null,
   "id": "9fe22a15",
   "metadata": {},
   "outputs": [],
   "source": [
    "\n",
    "similarity=cosine_similarity([embeddings[0]],[embeddings[5]])\n",
    "print(\"Similarity between the 2 sentences/words: \",similarity[0][0])\n"
   ]
  },
  {
   "cell_type": "code",
   "execution_count": null,
   "id": "97a25936",
   "metadata": {},
   "outputs": [],
   "source": [
    "pca=PCA(n_components=2)\n",
    "embeddings_2d=pca.fit_transform(embeddings)\n",
    "\n",
    "plt.figure(figsize=(6,6))\n",
    "for i, sentence in enumerate(sentences):\n",
    "    x, y = embeddings_2d[i]\n",
    "    plt.scatter(x, y)\n",
    "    plt.text(x+0.01, y+0.01, sentence, fontsize=9)\n",
    "plt.title(\"2D PCA Visualization of Sentence Embeddings\")\n",
    "plt.xlabel(\"PCA 1\")\n",
    "plt.ylabel(\"PCA 2\")\n",
    "plt.grid(True)\n",
    "plt.show()"
   ]
  }
 ],
 "metadata": {
  "kernelspec": {
   "display_name": "semantic_env",
   "language": "python",
   "name": "python3"
  },
  "language_info": {
   "codemirror_mode": {
    "name": "ipython",
    "version": 3
   },
   "file_extension": ".py",
   "mimetype": "text/x-python",
   "name": "python",
   "nbconvert_exporter": "python",
   "pygments_lexer": "ipython3",
   "version": "3.13.7"
  }
 },
 "nbformat": 4,
 "nbformat_minor": 5
}
