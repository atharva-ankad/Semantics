{
 "cells": [
  {
   "cell_type": "code",
   "execution_count": null,
   "id": "1176934c",
   "metadata": {},
   "outputs": [],
   "source": [
    "from sentence_transformers import SentenceTransformer\n",
    "from sklearn.metrics.pairwise import cosine_similarity\n",
    "import numpy as np\n",
    "import matplotlib.pyplot as plt\n",
    "from sklearn.decomposition import PCA\n",
    "\n",
    "model=SentenceTransformer('all-MiniLM-L6-v2')\n",
    "\n",
    "\n",
    "with open(r\"C:\\Users\\ankad\\Documents\\Project1\\clean_solar_data.txt\", \"r\") as f:\n",
    "    sentences = f.readlines()\n",
    "sentences =[s.strip() for s in sentences]\n",
    "\n",
    "embeddings=model.encode(sentences)\n",
    "\n",
    "query=\"Number of moons\"\n",
    "\n",
    "enquery=model.encode(query)\n",
    "enquery = enquery.reshape(1, -1)\n",
    "scores=cosine_similarity(enquery,embeddings)[0]\n",
    "results = list(zip(sentences, scores))\n",
    "sorted_results = sorted(results, key=lambda x: x[1], reverse=True)\n"
   ]
  }
 ],
 "metadata": {
  "kernelspec": {
   "display_name": "semantic_env",
   "language": "python",
   "name": "python3"
  },
  "language_info": {
   "codemirror_mode": {
    "name": "ipython",
    "version": 3
   },
   "file_extension": ".py",
   "mimetype": "text/x-python",
   "name": "python",
   "nbconvert_exporter": "python",
   "pygments_lexer": "ipython3",
   "version": "3.13.7"
  }
 },
 "nbformat": 4,
 "nbformat_minor": 5
}
