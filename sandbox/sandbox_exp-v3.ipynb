{
 "cells": [
  {
   "cell_type": "code",
   "execution_count": 6,
   "id": "1176934c",
   "metadata": {},
   "outputs": [
    {
     "name": "stdout",
     "output_type": "stream",
     "text": [
      "File modified.\n"
     ]
    }
   ],
   "source": [
    "import re\n",
    "\n",
    "#Load dirty text\n",
    "with open(r\"C:\\Users\\ankad\\Documents\\Project1\\dirty_solar_data.txt\",\"r\",encoding=\"utf-8\") as f:\n",
    "    text=f.read()\n",
    "\n",
    "#Remove references like [1], [23], etc.\n",
    "#Replace multiple spaces/newlines with a single space\n",
    "text= re.sub(r\"\\[\\d+\\]\",\"\",text)\n",
    "text= re.sub(r\"\\s+\",\" \",text)\n",
    "\n",
    "#Split into sentences by \". \"\n",
    "#Strip whitespace and drop empty strings\n",
    "sentences=text.split(\". \")\n",
    "sentences = [s.strip() for s in sentences if s.strip()]\n",
    "\n",
    "#Writing cleaned data\n",
    "with open(r\"C:\\Users\\ankad\\Documents\\Project1\\clean_solar_data.txt\", \"w\", encoding=\"utf-8\") as f:\n",
    "    for s in sentences:\n",
    "        f.write(s + \".\\n\")\n",
    "    print(\"File modified.\")"
   ]
  }
 ],
 "metadata": {
  "kernelspec": {
   "display_name": "semantic_env",
   "language": "python",
   "name": "python3"
  },
  "language_info": {
   "codemirror_mode": {
    "name": "ipython",
    "version": 3
   },
   "file_extension": ".py",
   "mimetype": "text/x-python",
   "name": "python",
   "nbconvert_exporter": "python",
   "pygments_lexer": "ipython3",
   "version": "3.13.7"
  }
 },
 "nbformat": 4,
 "nbformat_minor": 5
}
